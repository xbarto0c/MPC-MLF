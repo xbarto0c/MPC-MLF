{
  "nbformat": 4,
  "nbformat_minor": 0,
  "metadata": {
    "colab": {
      "provenance": [],
      "include_colab_link": true
    },
    "kernelspec": {
      "name": "python3",
      "display_name": "Python 3"
    },
    "language_info": {
      "name": "python"
    }
  },
  "cells": [
    {
      "cell_type": "markdown",
      "metadata": {
        "id": "view-in-github",
        "colab_type": "text"
      },
      "source": [
        "<a href=\"https://colab.research.google.com/github/xbarto0c/MPC-MLF/blob/main/exercie_01.ipynb\" target=\"_parent\"><img src=\"https://colab.research.google.com/assets/colab-badge.svg\" alt=\"Open In Colab\"/></a>"
      ]
    },
    {
      "cell_type": "markdown",
      "source": [
        "# Exercise 1.4.1"
      ],
      "metadata": {
        "id": "z2Jdst0Khkeh"
      }
    },
    {
      "cell_type": "markdown",
      "source": [
        "print the following pattern (using loops)\n",
        "\n",
        "![image.png](data:image/png;base64,iVBORw0KGgoAAAANSUhEUgAAAE8AAACwCAYAAABO8DNKAAAEBElEQVR4nO2csXGrQBRF7/5xEVYnUuYOIFTo0CX8DqAEdwChS3CGOkFd7A+QJbSgP4a7gt3lnhkHZiSzPoCkdzSDsdZaiFn8WXsBMSN5BHfyznUOY3LU597GUzncJjqsQ1PAIqts2/1mC8AWjfsoYa21xlr3DeOE0hyAxuLt2+CABvbvfp0jGzgvw017vFcZdgcDIEPVStxDxk/I7nKFrtf/MiqvKWCB7kf+HjOU1xQWyGzV/kgsrPyN48hrbZX1L9fu8s2qdvGFxcCdvNEzrSl0+T5g5KOK+C0azwgkj0DyCCSPQPIIJI9A8ggkj0DyCDxm+BNKY2DKU/8vos7dbQnhzmtUhm8rm/Ue31ZZ72+lh/cMf65z7Ooj2k/gY1fj2H7h+Or5iIfCmNG2yi4xtOt607hU6A2U6Kdk+E7+HPFx4T/DX173ACT9emet9wzfK9EXiSlXaL8Zvife2p/LN93vQPxl+NEz7XIwEr18leEJNJ4RSB6B5BFIHoHkEUgegeQRSB6B5BEEk+FPpYExJe6eXeeDbUHhzmvrZXgnSrSVzQJvgiM97yasKaYH0auwOf/89TmdyNBzVnAZ/hZiw09Z4WX4iCJqYBn+8ro3+6xflqAy/K08xxFRA8rwzr6cd+4QCSTDjz8u9K8wleEJNJ4RSB6B5BFIHoHkEUgegeQRSB6B5BGkkeHPNXJjkN8vHOVgm2fceS3aDO9EiTkVfCpJZfjreptikRKdVobvhdglSnRyGX7J25mkleEv7XHuWT+VhDJ8r0QvdDuTZDK8u6/7Tw3PIY0MP7rG599MTBmeQOMZgeQRSB6B5BFIHoHkEUgegeQRSB6BMjyz7uGYuMEMP3PdyvDEupXhb3uevG5l+LtdT1u3Mvx119PXrQxPrFsZnli3MjyxbmV4Ao1nBJJHIHkEkkcgeQSSRyB5BJJHIHkEyvAMwzFxgxl+JsrwBMrwBMrwBMrwBMrwBMrwBMrwBMrwBBrPCCSPQPIIJI9A8ggkj0DyCCSPQPII0sjwazEcEyPN8CuQVIZfmrQy/MIkl+GXJK0MvzAJZfjlSSbDr0EaGX4llOEJNJ4RSB6B5BFIHoHkEUgegeQRSB6B5BEEk+GjxJ3X1svw8TEy255QmgPQWLx9GxzQwP7d//pgnOscu/qI9hP42NU4tl84vno+4qEwZnTNDB8T4WX4iAgsw8dFUBk+NgLK8PERSIaPE2V4Ao1nBJJHIHkEkkcgeQSSRyB5BJJHIHkEHjP8BnHnNSrDbwzvGX5LvAw37fFeZdgdDIAMVStxDxk/IZ9/c4MU8J/hN4TnDL8t/Gb4jeEvw28QZXgCjWcEkkcgeQSSRyB5BJJHIHkEkkcgeQSSRyB5BP8A6GfFYXaAVpYAAAAASUVORK5CYII=)"
      ],
      "metadata": {
        "id": "4mKrJYuxiFmd"
      }
    },
    {
      "cell_type": "code",
      "source": [
        "for i in range(5):\n",
        "  for j in range(i + 1):\n",
        "    print('X', end = \" \");\n",
        "  print('');\n",
        "\n",
        "for i in range(4):\n",
        "  for j in range(4 - i):\n",
        "    print('X', end = \" \");\n",
        "  print('');\n"
      ],
      "metadata": {
        "colab": {
          "base_uri": "https://localhost:8080/"
        },
        "id": "nX5VpmHLCVk2",
        "outputId": "f4019424-eeda-46d5-d554-f37a0fcd1a81"
      },
      "execution_count": null,
      "outputs": [
        {
          "output_type": "stream",
          "name": "stdout",
          "text": [
            "X \n",
            "X X \n",
            "X X X \n",
            "X X X X \n",
            "X X X X X \n",
            "X X X X \n",
            "X X X \n",
            "X X \n",
            "X \n"
          ]
        }
      ]
    },
    {
      "cell_type": "markdown",
      "source": [
        "# Exercise 1.4.2"
      ],
      "metadata": {
        "id": "nOAWuH8qp79q"
      }
    },
    {
      "cell_type": "markdown",
      "source": [
        "write a script that will sum all numbers in the following string"
      ],
      "metadata": {
        "id": "Zz2j3lx6qH2K"
      }
    },
    {
      "cell_type": "code",
      "source": [
        "input_str = \"n45as29@#8ss6\";\n",
        "sum = 0;\n",
        "\n",
        "for i in range(len(input_str)):\n",
        "  if(input_str[i].isdigit()): sum = sum + int(input_str[i]);\n",
        "print(sum);"
      ],
      "metadata": {
        "id": "15fJxcCsqBH7",
        "colab": {
          "base_uri": "https://localhost:8080/"
        },
        "outputId": "b5dca0b0-00e5-4c23-945a-cf7385c9d097"
      },
      "execution_count": null,
      "outputs": [
        {
          "output_type": "stream",
          "name": "stdout",
          "text": [
            "34\n"
          ]
        }
      ]
    },
    {
      "cell_type": "markdown",
      "source": [
        "# Exercise 1.4.3"
      ],
      "metadata": {
        "id": "NjNQc3AXMPmi"
      }
    },
    {
      "cell_type": "markdown",
      "source": [
        "write script that will convert an arbitary integer to binary number (number will be represented as string with only *0* and *1*). Avoid using *bin()* function or any other pythons default functions"
      ],
      "metadata": {
        "id": "-algCktYMZ4Q"
      }
    },
    {
      "cell_type": "code",
      "source": [
        "arb_int = 10;\n",
        "\n",
        "def int_to_bin(arb_int):\n",
        "  i = 0;\n",
        "  help_var = 0;\n",
        "  bin_str = [];\n",
        "  while 1:\n",
        "    i += 1;\n",
        "    help_var = int(arb_int / 2);\n",
        "    if arb_int == 0 and help_var == 0: return bin_str;\n",
        "    bin_str.append(int(arb_int % 2)); \n",
        "    arb_int = help_var;\n",
        "\n",
        "bin_list = int_to_bin(arb_int);\n",
        "bin_str = \"\";\n",
        "for i in range(len(bin_list)):\n",
        "  bin_str += str(bin_list[len(bin_list) - i - 1]);\n",
        "\n",
        "print(bin_str);"
      ],
      "metadata": {
        "id": "3jOfppJ6MVlG",
        "colab": {
          "base_uri": "https://localhost:8080/"
        },
        "outputId": "c6bebf4d-48f2-4211-d3a9-00c9af3b13ee"
      },
      "execution_count": null,
      "outputs": [
        {
          "output_type": "stream",
          "name": "stdout",
          "text": [
            "1100100\n"
          ]
        }
      ]
    },
    {
      "cell_type": "markdown",
      "source": [
        "# Exercise 1.5-1:"
      ],
      "metadata": {
        "id": "pCSSAjAj0ZlY"
      }
    },
    {
      "cell_type": "markdown",
      "source": [
        "The Fibonacci Sequence is a series of numbers. The next number is found by adding up the two numbers before it. The first two numbers are 0 and 1. For example, 0, 1, 1, 2, 3, 5, 8, 13. The next number in this series above is 8 + 13 = 21"
      ],
      "metadata": {
        "id": "JPgVzgDG1pwt"
      }
    },
    {
      "cell_type": "markdown",
      "source": [
        "\n",
        "\n",
        "Create a function that takes an integer as an input and return a list that contains all fibonaci numbers smaller than input integer\n",
        "\n",
        "example:\n",
        "\n",
        "*print(fibonaci(10))*\n",
        "\n",
        "[0, 1, 1, 2, 3, 5, 8]\n"
      ],
      "metadata": {
        "id": "uEHzKT7k1sfr"
      }
    },
    {
      "cell_type": "code",
      "source": [
        "def fibonaci(upper_threshold: int) -> list:\n",
        "  fibonaci = [0, 1];\n",
        "  i = 1;\n",
        "  while 1:\n",
        "    if upper_threshold > (fibonaci[i] + fibonaci[i - 1]): fibonaci.append(fibonaci[i] + fibonaci[i - 1]);\n",
        "    else: return fibonaci;\n",
        "    i += 1;\n",
        "print(fibonaci(17));\n",
        "  "
      ],
      "metadata": {
        "id": "Lu9nP9hG2VzU",
        "colab": {
          "base_uri": "https://localhost:8080/"
        },
        "outputId": "a0fdbe91-6f4c-4a11-c656-a1bf0f09c83e"
      },
      "execution_count": null,
      "outputs": [
        {
          "output_type": "stream",
          "name": "stdout",
          "text": [
            "[0, 1, 1, 2, 3, 5, 8, 13]\n"
          ]
        }
      ]
    },
    {
      "cell_type": "markdown",
      "source": [
        "# Exercise 1.5-2:"
      ],
      "metadata": {
        "id": "eVT1qWQGgXm2"
      }
    },
    {
      "cell_type": "markdown",
      "source": [
        "### Basic:"
      ],
      "metadata": {
        "id": "2hv2gSRIzI7-"
      }
    },
    {
      "cell_type": "markdown",
      "source": [
        "implement fucntion *display_as_digi* that will print an arbitary integer in segment display style\n",
        "\n",
        "example:\n",
        "\n",
        "*display_as_digi(588)*\n",
        "\n",
        "\n",
        "![digit.png](data:image/png;base64,iVBORw0KGgoAAAANSUhEUgAAAGgAAABcCAIAAAANlWdNAAAAAXNSR0IArs4c6QAAAARnQU1BAACxjwv8YQUAAAAJcEhZcwAADsMAAA7DAcdvqGQAAAUQSURBVHhe7ZrBUSw7DEV/KuRBEKRABD8BAiAA9qwJgBzIgS1btmz5p+Y2Kle3pbY0s/s6i1d2j+ZKunbPK7v457cp0cYVaeOKtHFF2rgic+M+Pz/v7+/f3t40fX5+fnh4+P7+/vj4uLu7418e/vz8/HuBgQXwfPfdIymRMWD33SkpEa9NTWPcHYcuokgzGOVIoykDK0WVkVgDK8UjJUIYwUw1CFyDrIjX5inRq0qap6cn0u9qpayXl5fHx0fybY8ulfHk9fWVeBkRkxIhhufE863tkU9WxGszJjLOVm+b/6FFs8U0bPW2eUhWhMj1HZES8dqMiYxDS+s2tqc07+/vVDAukdZTz0/by4oQQ/zids6KTNs8JfqNU2LqYGCrh7oSWwAPZYQSUwdcYl1SInxKDJFjgEdWxGvzlLlxyI3/eZFeO5989gqoApJ9fX0xAJ7wnE+JsYqPpETUsKmpMM87qa2LeG1qGhO9qk1AG1ekjSvSxhVp44q0cUXauCJtXJE2rkgbV2RunA4rdrLhLMKRhYOLplcyHnR2h6Qju4DdIenIWOquiyPXtOnuOIrTwY3BDV0T1CpNBoFrgjCCidQgcA1kNBZoELgmym1GrypZCzd8i9Db8SLTg5jpHeQUmid48Q4Kam1GxtnqbfObYvtom59B5PqOsH20zUNqbUbGoVW44VtBtR4vMj2IIf7Ki0yPWpvRb5wSUweDxdVbhBJlgWXZPpihvUmk7I7bG2NwBPTco9zm3Djkyjd8p9CVqanPwDu5Zv2rMM87qQEDpqQgUeDdNW1Gr2oT0MYVaeOKtHFF2rgibVyRNq5IG1ekjSvSxhVp44rMjdMpz46EHOJ0nBwPd+PB0AJ4vvvukZTIGLD77pSUiNempjHujkMXUaQZjHKk0ZSBlaLKSKyBleKREiGMYKYaBK5BVsRr85ToVSVN/ymrR2Scrd42/0OLZotp2Opt85CsCJHrOyIl4rUZExmH1vFqVGnW/wp1SlaEGOIXt3NWZNrmKdFvnBJTBwNbPdSV2AJ4KCOUmDrgEuuSEuFTYogcAzyyIl6bp8yNQ256NUo+ewVUAcn6T1mbBG1ckTauSBtXpI0r0sYVaeOKtHFF2rgibVyR2xjHYYUzDScbxjroeKciGA86u0PSkV3A7pB0JFXJLmD87im3MU7tkViDoFZBgEpkYKZ46KRJpAaBa5CtBDWdTxmsuwY3e1VJOb0+9KC340WmBzFEXnmR6YG5N77IzGKrt81DbB9t8zOIXN8RqUpsk27zNW5mnDbFlReZHsQQf+VFpgeW3fIiM4WMUGLqOF09ImUBjpy2p71J5JjFI1uJFYDdDBY3KdzAONUKDJiSm9ckqJiu7D3SdwPv5Jqp0WfhIlOfHpEa/2pK5PoLfsvfuP8VbVyRNq5IG1ekjSvSxhVp44q0cUXauCJtXJG5cTqs2MmGs4hOReMZZTzfWADPd989khIZA3bfnZIS8drUNMbdcegiijSDUY40mjKwUlQZiTWwUjxSIoQRzFSDwDXIinhtnhK9qqTpv8j0iIyz1dvmf2jRbDENW71tHpIVIXJ9R6REvDZjIuPQOt7wKc3xDlLreeVFpidCDPGL2zkrMm3zlOg3Tompg4GtHupKbAE8lBFKTB1wiXVJifApMUSOAR5ZEa/NU+bGITe94SOfvQKqgGT9F5lNgjauSBtXpI0r0sYVaeOKtHFF2rgibVyRNq5IG1fi9/c/pr/ZCf8bc3sAAAAASUVORK5CYII=)"
      ],
      "metadata": {
        "id": "BN8bKPh6y7Dm"
      }
    },
    {
      "cell_type": "code",
      "source": [
        "\n",
        "def display_as_digi(number: int) -> None:\n",
        "  dot_pos = str(number).rfind('.') - 1;  \n",
        "  number = str(number).replace('.','');\n",
        "  for i in range(5):\n",
        "    for j in range(len(number)):\n",
        "        if int(number[j]) == 0:\n",
        "          if i == 0: print('XXX', end = \" \");\n",
        "          elif i == 1: print('X X', end = \" \");\n",
        "          elif i == 2: print('X X', end = \" \");\n",
        "          elif i == 3: print('X X', end = \" \");\n",
        "          elif i == 4 and j == dot_pos: print('XXXX', end = \"\");\n",
        "          elif i == 4: print('XXX', end = \" \");\n",
        "        elif int(number[j]) == 1:\n",
        "          if i == 0: print('  X', end = \" \");\n",
        "          elif i == 1: print('  X', end = \" \");\n",
        "          elif i == 2: print('  X', end = \" \");\n",
        "          elif i == 3: print('  X', end = \" \");\n",
        "          elif i == 4 and j == dot_pos: print('  XX', end = \"\");\n",
        "          elif i == 4: print('  X', end = \" \");\n",
        "        elif int(number[j]) == 2:\n",
        "          if i == 0: print('XXX', end = \" \");\n",
        "          elif i == 1: print('  X', end = \" \");\n",
        "          elif i == 2: print('XXX', end = \" \");\n",
        "          elif i == 3: print('X  ', end = \" \");\n",
        "          elif i == 4 and j == dot_pos: print('XXXX', end = \"\");\n",
        "          elif i == 4: print('XXX', end = \" \");\n",
        "        elif int(number[j]) == 3:\n",
        "          if i == 0: print('XXX', end = \" \");\n",
        "          elif i == 1: print('  X', end = \" \");\n",
        "          elif i == 2: print('XXX', end = \" \");\n",
        "          elif i == 3: print('  X', end = \" \");\n",
        "          elif i == 4 and j == dot_pos: print('XXXX', end = \"\");\n",
        "          elif i == 4: print('XXX', end = \" \");\n",
        "        elif int(number[j]) == 4:\n",
        "          if i == 0: print('X X', end = \" \");\n",
        "          elif i == 1: print('X X', end = \" \");\n",
        "          elif i == 2: print('XXX', end = \" \");\n",
        "          elif i == 3: print('  X', end = \" \");\n",
        "          elif i == 4 and j == dot_pos: print('XXXX', end = \"\");\n",
        "          elif i == 4: print('  X', end = \" \");\n",
        "        elif int(number[j]) == 5:\n",
        "          if i == 0: print('XXX', end = \" \");\n",
        "          elif i == 1: print('X  ', end = \" \");\n",
        "          elif i == 2: print('XXX', end = \" \");\n",
        "          elif i == 3: print('  X', end = \" \");\n",
        "          elif i == 4 and j == dot_pos: print('XXXX', end = \"\");\n",
        "          elif i == 4: print('XXX', end = \" \");\n",
        "        elif int(number[j]) == 6:\n",
        "          if i == 0: print('XXX', end = \" \");\n",
        "          elif i == 1: print('X  ', end = \" \");\n",
        "          elif i == 2: print('XXX', end = \" \");\n",
        "          elif i == 3: print('X X', end = \" \");\n",
        "          elif i == 4 and j == dot_pos: print('XXXX', end = \"\");\n",
        "          elif i == 4: print('XXX', end = \" \");\n",
        "        elif int(number[j]) == 7:\n",
        "          if i == 0: print('XXX', end = \" \");\n",
        "          elif i == 1: print('  X', end = \" \");\n",
        "          elif i == 2: print('  X', end = \" \");\n",
        "          elif i == 3: print('  X', end = \" \");\n",
        "          elif i == 4 and j == dot_pos: print('  XX', end = \"\");\n",
        "          elif i == 4: print('  X', end = \" \");\n",
        "        elif int(number[j]) == 8:\n",
        "          if i == 0: print('XXX', end = \" \");\n",
        "          elif i == 1: print('X X', end = \" \");\n",
        "          elif i == 2: print('XXX', end = \" \");\n",
        "          elif i == 3: print('x X', end = \" \");\n",
        "          elif i == 4 and j == dot_pos: print('XXXX', end = \"\");\n",
        "          elif i == 4: print('XXX', end = \" \");\n",
        "        elif int(number[j]) == 9:\n",
        "          if i == 0: print('XXX', end = \" \");\n",
        "          elif i == 1: print('X X', end = \" \");\n",
        "          elif i == 2: print('XXX', end = \" \");\n",
        "          elif i == 3: print('  X', end = \" \");\n",
        "          elif i == 4 and j == dot_pos: print('XXXX', end = \"\");\n",
        "          elif i == 4: print('XXX', end = \" \");\n",
        "    print(\"\");\n",
        "    pass\n",
        "display_as_digi(123.4567890);"
      ],
      "metadata": {
        "id": "3GcRk6OYzKuV",
        "colab": {
          "base_uri": "https://localhost:8080/"
        },
        "outputId": "ec01012f-01a3-4fcc-fa32-9c6e466abfd5"
      },
      "execution_count": null,
      "outputs": [
        {
          "output_type": "stream",
          "name": "stdout",
          "text": [
            "  X XXX XXX X X XXX XXX XXX XXX XXX \n",
            "  X   X   X X X X   X     X X X X X \n",
            "  X XXX XXX XXX XXX XXX   X XXX XXX \n",
            "  X X     X   X   X X X   X x X   X \n",
            "  X XXX XXXX  X XXX XXX   X XXX XXX \n"
          ]
        }
      ]
    },
    {
      "cell_type": "markdown",
      "source": [
        "### Extension"
      ],
      "metadata": {
        "id": "__gcTtmby5Yu"
      }
    },
    {
      "cell_type": "markdown",
      "source": [
        "extend our sement number printer to be able to print decimal numbers"
      ],
      "metadata": {
        "id": "ek8Z7Agx0H-Y"
      }
    },
    {
      "cell_type": "markdown",
      "source": [],
      "metadata": {
        "id": "Z4dRQMiI0yW4"
      }
    },
    {
      "cell_type": "markdown",
      "source": [
        "# Exercise 2"
      ],
      "metadata": {
        "id": "Tu7yI05aT1y5"
      }
    },
    {
      "cell_type": "markdown",
      "source": [
        "### 1\n"
      ],
      "metadata": {
        "id": "7GaHLE8Zh8aJ"
      }
    },
    {
      "cell_type": "markdown",
      "source": [
        "- Create a numpy array with shape 5x5, that contains number from 25..to 0\n",
        "- create a function that takes an arbitary numpy array as an input and sets all numbers smaller than user defined threshold to 0\n",
        "- test your function on your array\n",
        "- make one implementation using loops and one withnout using loops, compare execution time with *time* library"
      ],
      "metadata": {
        "id": "ZIyURJ6HZ5Rb"
      }
    },
    {
      "cell_type": "code",
      "source": [
        "import numpy as np\n",
        "import time\n",
        "mat_col_num = 5;\n",
        "mat_row_num = 5;\n",
        "num_count = 24;\n",
        "a = np.zeros((mat_row_num, mat_col_num));\n",
        "for i in range(mat_row_num):\n",
        "    for j in range(mat_col_num):\n",
        "        a[i, j] = num_count;\n",
        "        num_count -= 1;\n",
        "print(a);\n",
        "################################################################## without using for cycles\n",
        "st = time.time();\n",
        "b = a;\n",
        "user_def_num = 10;\n",
        "pos_num_result = np.where(a < user_def_num);\n",
        "pos_num = list(zip(pos_num_result[0], pos_num_result[1]));\n",
        "for i in range(len(pos_num)):\n",
        "    a[pos_num[i]] = 0;\n",
        "end = time.time();\n",
        "print(a);\n",
        "print(\"Elapsed time without using a cycle: \", end - st);\n",
        "################################################################## using for cycles\n",
        "a = b;\n",
        "st = time.time();\n",
        "size_mat = a.shape;\n",
        "for i in range(size_mat[0]):\n",
        "  for j in range(size_mat[1]):\n",
        "    if(a[i, j] < user_def_num):\n",
        "      a[i, j] = 0;\n",
        "end = time.time();\n",
        "print(a);\n",
        "print(\"Elapsed time while using cycles: \", end - st);"
      ],
      "metadata": {
        "id": "pHDYMb-eT-Md",
        "colab": {
          "base_uri": "https://localhost:8080/"
        },
        "outputId": "fb879071-24bb-4e88-c125-34fe0329bae1"
      },
      "execution_count": 27,
      "outputs": [
        {
          "output_type": "stream",
          "name": "stdout",
          "text": [
            "[[24. 23. 22. 21. 20.]\n",
            " [19. 18. 17. 16. 15.]\n",
            " [14. 13. 12. 11. 10.]\n",
            " [ 9.  8.  7.  6.  5.]\n",
            " [ 4.  3.  2.  1.  0.]]\n",
            "[[24. 23. 22. 21. 20.]\n",
            " [19. 18. 17. 16. 15.]\n",
            " [14. 13. 12. 11. 10.]\n",
            " [ 0.  0.  0.  0.  0.]\n",
            " [ 0.  0.  0.  0.  0.]]\n",
            "Elapsed time without using a cycle:  0.00045680999755859375\n",
            "[[24. 23. 22. 21. 20.]\n",
            " [19. 18. 17. 16. 15.]\n",
            " [14. 13. 12. 11. 10.]\n",
            " [ 0.  0.  0.  0.  0.]\n",
            " [ 0.  0.  0.  0.  0.]]\n",
            "Elapsed time while using cycles:  0.00021386146545410156\n"
          ]
        }
      ]
    },
    {
      "cell_type": "markdown",
      "source": [
        "### 2\n",
        " - lets return to our digi_diplay, create a function that will take an arbitary intiger an an input and display it as an binary image in segment display style.\n",
        "*hint: to show an image use library matplotlib.pyplot, also you will maybe find usefull function np.concatenate*"
      ],
      "metadata": {
        "id": "tl_vFRrwiArx"
      }
    },
    {
      "cell_type": "code",
      "source": [
        "def show_in_digi(input_integer: int) -> None:\n",
        "  pass"
      ],
      "metadata": {
        "id": "ha5_BgE0mxoY"
      },
      "execution_count": null,
      "outputs": []
    },
    {
      "cell_type": "markdown",
      "source": [
        "show_in_digi(5289) will show:\n"
      ],
      "metadata": {
        "id": "pcOmCLI1muSr"
      }
    },
    {
      "cell_type": "markdown",
      "source": [
        "![image.png](data:image/png;base64,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)"
      ],
      "metadata": {
        "id": "aHN2vh9dm-S5"
      }
    },
    {
      "cell_type": "markdown",
      "source": [
        "# Exercise 3"
      ],
      "metadata": {
        "id": "6s8LqeO6fuS1"
      }
    },
    {
      "cell_type": "markdown",
      "source": [
        "Use google colab dataset loaded in the lecture and do following operations:"
      ],
      "metadata": {
        "id": "9MV_c3_3f9V0"
      }
    },
    {
      "cell_type": "markdown",
      "source": [
        "- check what *dataset.describe()* does"
      ],
      "metadata": {
        "id": "ZctJOSglgYjc"
      }
    },
    {
      "cell_type": "markdown",
      "source": [
        "- display all rows where *total_bedrooms* is bigger than 310"
      ],
      "metadata": {
        "id": "ANvmvaQzpp2k"
      }
    },
    {
      "cell_type": "markdown",
      "source": [
        "- drop also first and last row and also "
      ],
      "metadata": {
        "id": "AJnkbsLDpcrh"
      }
    },
    {
      "cell_type": "markdown",
      "source": [
        "- save mean of values in *households* columns to variable, using *matplotlib* display number show number of household in graph (x axis would be ID, y axis - numbers of households) as dots with the same colour, display also mean as a single line in the graph with different colour as dots is"
      ],
      "metadata": {
        "id": "jjj3NIPGheCC"
      }
    },
    {
      "cell_type": "markdown",
      "source": [
        " - check if any of the columns contains NaN values, if yes replace the NaN values with arithmetic mean of whole dataset "
      ],
      "metadata": {
        "id": "Ga-8a7TFgFDT"
      }
    },
    {
      "cell_type": "markdown",
      "source": [
        " - display *lat* and *long* into plot, *lat* would be on *x* axis and *long* on *y* axis "
      ],
      "metadata": {
        "id": "L6_0MzSRqYK9"
      }
    },
    {
      "cell_type": "markdown",
      "source": [
        "- choose two arbitary columns and normalize all values inside using min-max normalization:"
      ],
      "metadata": {
        "id": "Eba6rEqcixWl"
      }
    },
    {
      "cell_type": "markdown",
      "source": [
        "- Create a Correlation Matrix from all columns"
      ],
      "metadata": {
        "id": "nZ5hAWKlpVKK"
      }
    },
    {
      "cell_type": "code",
      "source": [],
      "metadata": {
        "id": "xt8IQzHifulb"
      },
      "execution_count": null,
      "outputs": []
    }
  ]
}
